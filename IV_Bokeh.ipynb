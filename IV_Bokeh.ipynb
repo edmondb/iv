{
  "nbformat": 4,
  "nbformat_minor": 0,
  "metadata": {
    "colab": {
      "name": "IV_Bokeh",
      "provenance": [],
      "collapsed_sections": []
    },
    "kernelspec": {
      "name": "python3",
      "display_name": "Python 3"
    }
  },
  "cells": [
    {
      "cell_type": "markdown",
      "metadata": {
        "id": "4HGib3Q0elAF",
        "colab_type": "text"
      },
      "source": [
        "# Bokeh\n",
        "\n",
        "---\n",
        "\n",
        "<center>\n",
        "  <img src=\"http://www.nasa.gov/sites/all/themes/custom/nasatwo/images/nasa-logo.svg\">\n",
        "</center>\n",
        "\n",
        "<center>\n",
        "  <h1><font size=\"+3\">GSFC Python Lectures: Interactive Visualizations</font></h1>\n",
        "</center>\n",
        "\n",
        "<center>\n",
        "  <h1><font color=\"red\">Introduction to Bokeh</font></h1>\n",
        "</center>"
      ]
    },
    {
      "cell_type": "code",
      "metadata": {
        "id": "gwbv0bPee0Jh",
        "colab_type": "code",
        "colab": {}
      },
      "source": [
        ""
      ],
      "execution_count": 0,
      "outputs": []
    }
  ]
}