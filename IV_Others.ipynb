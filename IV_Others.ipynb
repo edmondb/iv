{
  "nbformat": 4,
  "nbformat_minor": 0,
  "metadata": {
    "colab": {
      "name": "IV_Others",
      "provenance": [],
      "collapsed_sections": []
    },
    "kernelspec": {
      "name": "python3",
      "display_name": "Python 3"
    }
  },
  "cells": [
    {
      "cell_type": "markdown",
      "metadata": {
        "id": "lkIDWU3pe2w8",
        "colab_type": "text"
      },
      "source": [
        "# Other Interactive Visualization Utilities\n",
        "\n",
        "---\n",
        "\n",
        "* HoloViews\n",
        "* Small Datasets\n",
        "  * mpld3 (matplotlib + d3 Javascript Library)\n",
        "  * pygal\n",
        "  \n",
        "* Links:\n",
        "  * [link](https://mode.com/blog/python-interactive-plot-libraries)\n",
        "  * [link](https://towardsdatascience.com/the-next-level-of-data-visualization-in-python-dd6e99039d5e)\n",
        "  * [link](https://medium.com/@alark/we-need-more-interactive-data-visualization-tools-for-the-web-in-python-ad80ec3f440e)"
      ]
    },
    {
      "cell_type": "code",
      "metadata": {
        "id": "CT2ZJVMefGxX",
        "colab_type": "code",
        "colab": {}
      },
      "source": [
        ""
      ],
      "execution_count": 0,
      "outputs": []
    }
  ]
}